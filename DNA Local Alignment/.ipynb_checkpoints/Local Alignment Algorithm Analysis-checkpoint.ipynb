{
 "cells": [
  {
   "cell_type": "markdown",
   "metadata": {},
   "source": [
    "My implementation of the Smith-Waterman Algorithm for aligning DNA sequences"
   ]
  },
  {
   "cell_type": "code",
   "execution_count": 33,
   "metadata": {
    "collapsed": false
   },
   "outputs": [],
   "source": [
    "import sys, getopt, numpy\n",
    "\n",
    "\n",
    "file = \"sampleDNAsequences.txt\"\n",
    "\n",
    "\n",
    "#input values here\n",
    "match = 1\n",
    "mismatch = -10\n",
    "indel = -5\n",
    "\n"
   ]
  },
  {
   "cell_type": "code",
   "execution_count": 34,
   "metadata": {
    "collapsed": false
   },
   "outputs": [],
   "source": [
    "\n",
    "\n",
    "def getLocAL(seq1, seq2, matchS, mismatchS, indel):\n",
    "    matchScore = matchS\n",
    "    mismatchScore =  mismatchS\n",
    "    indel = int(indel)\n",
    "    \n",
    "    \n",
    "    vert = numpy.empty((len(seq2)+1, len(seq1)+1))\n",
    "    vert[:] = 0\n",
    "\n",
    "    d = 1\n",
    "    while d < len(vert):\n",
    "        vert[d][0] = indel*d\n",
    "        d+=1\n",
    "\n",
    "    d=1\n",
    "    while d < len(vert[0]):\n",
    "        vert[0][d] = -float(\"inf\")\n",
    "        d+=1\n",
    "\n",
    "    vert [0][0] = 0\n",
    "\n",
    "\n",
    "    #hori = deletion\n",
    "    hori = numpy.empty((len(seq2)+1, len(seq1)+1))\n",
    "    hori[:] = 0\n",
    "    d=1\n",
    "    while d < len(hori[0]):\n",
    "        hori[0][d] = indel*d\n",
    "        d+=1\n",
    "\n",
    "    d=1\n",
    "    while d < len(hori):\n",
    "        hori[d][0] = -float(\"inf\")\n",
    "        d+=1\n",
    "    hori[0][0]=0\n",
    "\n",
    "    #diag = match or mismatch\n",
    "    diag = numpy.empty((len(seq2)+1, len(seq1)+1))\n",
    "    diag[:] = 0\n",
    "    d=1\n",
    "    while d < len(diag[0]):\n",
    "        diag[0][d] = indel*d\n",
    "        d+=1\n",
    "    d=1\n",
    "    while d < len(diag):\n",
    "        diag[d][0] = indel*d\n",
    "        d+=1\n",
    "    diag [0][0] = 0\n",
    "\n",
    "    #score for scorekeeping\n",
    "    score = numpy.empty((len(seq2)+1, len(seq1)+1))\n",
    "    score[:] = numpy.NAN\n",
    "\n",
    "    d=1\n",
    "    while d < len(score[0]):\n",
    "        score[0][d] = 0\n",
    "        d+=1\n",
    "    d=1\n",
    "    while d < len(score):\n",
    "        score[d][0] = 0\n",
    "        d+=1\n",
    "    score [0][0] = 0\n",
    "\n",
    "    #1 = Vert, 2 = Horiz, 3 = diag\n",
    "\n",
    "    dire = numpy.empty((len(seq2)+1, len(seq1)+1))\n",
    "    d=1\n",
    "    while d < len(dire[0]):\n",
    "        dire[0][d] = 2\n",
    "        d+=1\n",
    "    d=1\n",
    "    while d < len(dire):\n",
    "        dire[d][0] = 1\n",
    "        d+=1\n",
    "    \n",
    "    # here we going to loop through the whole thing and go from top left to bottom right\n",
    "\n",
    "\n",
    "    #let's make a variable to keep track of the biggest score value:\n",
    "    maxScore = 0\n",
    "    bestLoc = (0,0)\n",
    "    # we want to iterate 1-10 in the 3 matrices. This is the nested for loop\n",
    "    i = 1\n",
    "    while i < len(diag):\n",
    "        j=1\n",
    "        while j < len(diag[i]):\n",
    "            #print ('current i and j: ', i , ' ', j)\n",
    "            #we gotta manipulate each matrix we're working with\n",
    "\n",
    "            #Vertical\n",
    "            a = vert[i-1][j]\n",
    "            b = diag[i-1][j]\n",
    "\n",
    "            if a>=b:\n",
    "                vert[i][j] = a + indel\n",
    "            elif b>=a:\n",
    "                vert[i][j] = b + indel\n",
    "\n",
    "\n",
    "            #Horizontal\n",
    "            a = hori[i][j-1]\n",
    "            b = diag[i][j-1]\n",
    "\n",
    "            if a>=b:\n",
    "                hori[i][j] = a + indel\n",
    "            elif b>=a:\n",
    "                hori[i][j] = b + indel\n",
    "\n",
    "            #diag\n",
    "\n",
    "\n",
    "            a = vert[i][j]\n",
    "            b = hori[i][j]\n",
    "\n",
    "            #print((seq1[j-1],seq2[i-1]))\n",
    "\n",
    "            if(int(seq1[j-1]==seq2[i-1]) ==0):\n",
    "                cScore = mismatchScore\n",
    "            else:\n",
    "                cScore = matchScore\n",
    "\n",
    "            c = diag[i-1][j-1] + cScore\n",
    "\n",
    "\n",
    "            if a>=b and a>=c:\n",
    "                dire[i][j] = \"1\"\n",
    "                diag[i][j]=a\n",
    "            if b>=a and b>=c:\n",
    "                dire[i][j] = \"2\"\n",
    "                diag[i][j]=b\n",
    "            if c>=a and c>=b:\n",
    "                dire[i][j] = \"3\"\n",
    "                diag[i][j]=c \n",
    "            if diag[i][j]<0:\n",
    "                dire[i][j] = 0\n",
    "                diag[i][j] = 0\n",
    "\n",
    "            if(diag[i][j] >= maxScore):\n",
    "                maxScore = diag[i][j]\n",
    "                bestLoc = (i,j)\n",
    "\n",
    "            j+=1\n",
    "\n",
    "        i+=1\n",
    "\n",
    "\n",
    "\n",
    "\n",
    "    # run this if -a is on\n",
    "    #reset directional borders to zero:\n",
    "    d=1\n",
    "    while d < len(dire[0]):\n",
    "        dire[0][d] = 0\n",
    "        d+=1\n",
    "    d=1\n",
    "    while d < len(dire):\n",
    "        dire[d][0] = 0\n",
    "        d+=1\n",
    "\n",
    "\n",
    "    # let's write a function to find the local alignment\n",
    "\n",
    "\n",
    "    ali1 = \"\" \n",
    "    #print(seq1)\n",
    "    #print(seq1[bestLoc[1]-1])\n",
    "\n",
    "    #remember seq2 is the y value but is presented first in the coordinates\n",
    "    ali2 = \"\"\n",
    "    #print(seq2)\n",
    "    #print(seq2[bestLoc[0]-1])\n",
    "\n",
    "\n",
    "\n",
    "\n",
    "    k = 0\n",
    "    current = bestLoc\n",
    "    while k == 0:\n",
    "\n",
    "        #on zero we stop\n",
    "        if dire[bestLoc] == 0:\n",
    "            k=1\n",
    "        #on 1 we go up. so i changes but j stays the same\n",
    "        elif dire[bestLoc] == 1:\n",
    "            bestLoc = (bestLoc[0]-1, bestLoc[1])\n",
    "            ali1 = ali1 + \"-\"\n",
    "            ali2 = ali2 + str(seq2[bestLoc[0]])\n",
    "        #on 2 we go left so j changes but i stays constant\n",
    "        elif dire[bestLoc] == 2:\n",
    "            bestLoc = (bestLoc[0], bestLoc[1]-1)\n",
    "            ali2 = ali2 + \"-\"\n",
    "            ali1 = ali1 = ali1 + str(seq1[bestLoc[1]])\n",
    "        #on 3 both change, yay!\n",
    "        elif dire[bestLoc] == 3:\n",
    "            bestLoc = (bestLoc[0]-1, bestLoc[1]-1)\n",
    "            ali1 = ali1 + str(seq1[bestLoc[1]])\n",
    "            ali2 = ali2 + str(seq2[bestLoc[0]])\n",
    "\n",
    "    return (len(ali1))\n",
    "\n"
   ]
  },
  {
   "cell_type": "code",
   "execution_count": 38,
   "metadata": {
    "collapsed": false,
    "scrolled": true
   },
   "outputs": [],
   "source": [
    "#File reader to convert the lines into an array of DNA sequences\n",
    "\n",
    "data = open(file, \"r\")\n",
    "\n",
    "lengths = []\n",
    "check = False\n",
    "counter = 0\n",
    "seqs = []\n",
    "for line in data:\n",
    "    line = line[:-1]\n",
    "    \n",
    "    if 'seq' in line:\n",
    "        check = True\n",
    "    elif check == True:\n",
    "        lengths.append(len(line))\n",
    "        seqs.append(line)\n",
    "        check = False\n",
    "        counter +=1"
   ]
  },
  {
   "cell_type": "code",
   "execution_count": 39,
   "metadata": {
    "collapsed": false,
    "scrolled": false
   },
   "outputs": [
    {
     "name": "stdout",
     "output_type": "stream",
     "text": [
      "Processing DNA pair number  1\n",
      "Processing DNA pair number  2\n",
      "Processing DNA pair number  3\n",
      "Processing DNA pair number  4\n"
     ]
    }
   ],
   "source": [
    "#now let's write a program to run our function on all instances, \n",
    "#using a pair of DNA\n",
    "\n",
    "\n",
    "randDNAcount = 0\n",
    "p1 = []\n",
    "\n",
    "\n",
    "while randDNAcount < (len(seqs)/2):\n",
    "    p1.append(getLocAL(seqs[randDNAcount*2], seqs[randDNAcount*2+1], match, mismatch, indel))\n",
    "    print('Processing DNA pair number ', (randDNAcount+1))\n",
    "    randDNAcount+=1\n",
    "    \n"
   ]
  },
  {
   "cell_type": "code",
   "execution_count": 40,
   "metadata": {
    "collapsed": false,
    "scrolled": true
   },
   "outputs": [
    {
     "name": "stdout",
     "output_type": "stream",
     "text": [
      "[4, 31, 481, 999]\n"
     ]
    }
   ],
   "source": [
    "print(p1)"
   ]
  },
  {
   "cell_type": "code",
   "execution_count": 44,
   "metadata": {
    "collapsed": false
   },
   "outputs": [
    {
     "data": {
      "image/png": "[encoded data removed]",
      "text/plain": [
       "<matplotlib.figure.Figure at 0x116029f60>"
      ]
     },
     "metadata": {},
     "output_type": "display_data"
    }
   ],
   "source": [
    "import numpy as np\n",
    "import pandas as pd\n",
    "import matplotlib.pyplot as plt\n",
    "%matplotlib inline\n",
    "plt.xlabel('length')\n",
    "plt.ylabel('frequency')\n",
    "plt.grid(True)\n",
    "\n",
    "\n",
    "n, bins, patches = plt.hist(p1,25, normed=1, facecolor='green', alpha=0.75)\n",
    "\n"
   ]
  },
  {
   "cell_type": "code",
   "execution_count": 47,
   "metadata": {
    "collapsed": false
   },
   "outputs": [
    {
     "data": {
      "text/plain": [
       "[<matplotlib.lines.Line2D at 0x11fb1e630>]"
      ]
     },
     "execution_count": 47,
     "metadata": {},
     "output_type": "execute_result"
    },
    {
     "data": {
      "image/png": "[encoded data removed]",
      "text/plain": [
       "<matplotlib.figure.Figure at 0x11fc21ac8>"
      ]
     },
     "metadata": {},
     "output_type": "display_data"
    }
   ],
   "source": [
    "meanLengths = []\n",
    "counter =0\n",
    "for leng in lengths:\n",
    "    if counter%2 ==0:\n",
    "        meanLengths.append(leng)\n",
    "    counter+=1\n",
    "plt.xlabel('DNA length')\n",
    "plt.ylabel('Alignment Length')\n",
    "plt.plot(meanLengths, p1)\n"
   ]
  },
  {
   "cell_type": "code",
   "execution_count": null,
   "metadata": {
    "collapsed": true
   },
   "outputs": [],
   "source": []
  }
 ],
 "metadata": {
  "kernelspec": {
   "display_name": "Python 3",
   "language": "python",
   "name": "python3"
  },
  "language_info": {
   "codemirror_mode": {
    "name": "ipython",
    "version": 3
   },
   "file_extension": ".py",
   "mimetype": "text/x-python",
   "name": "python",
   "nbconvert_exporter": "python",
   "pygments_lexer": "ipython3",
   "version": "3.6.0"
  }
 },
 "nbformat": 4,
 "nbformat_minor": 2
}
